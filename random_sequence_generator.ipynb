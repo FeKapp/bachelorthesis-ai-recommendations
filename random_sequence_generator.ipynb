{
 "cells": [
  {
   "cell_type": "code",
   "execution_count": 3,
   "id": "362f10dd",
   "metadata": {},
   "outputs": [
    {
     "name": "stdout",
     "output_type": "stream",
     "text": [
      "Selection #1:\n",
      "  5‑year start trial: 174\n",
      "  3‑month trials (20 total):\n",
      "    [174, 177, 180, 183, 186, 189, 192, 195, 198, 201, 204, 207, 210, 213, 216, 219, 222, 225, 228, 231]\n",
      "\n",
      "Selection #2:\n",
      "  5‑year start trial: 190\n",
      "  3‑month trials (20 total):\n",
      "    [190, 193, 196, 199, 202, 205, 208, 211, 214, 217, 220, 223, 226, 229, 232, 235, 238, 241, 244, 247]\n",
      "\n",
      "Selection #3:\n",
      "  5‑year start trial: 229\n",
      "  3‑month trials (20 total):\n",
      "    [229, 232, 235, 238, 241, 244, 247, 250, 253, 256, 259, 262, 265, 268, 271, 274, 277, 280, 283, 286]\n",
      "\n",
      "Selection #4:\n",
      "  5‑year start trial: 140\n",
      "  3‑month trials (20 total):\n",
      "    [140, 143, 146, 149, 152, 155, 158, 161, 164, 167, 170, 173, 176, 179, 182, 185, 188, 191, 194, 197]\n",
      "\n",
      "Selection #5:\n",
      "  5‑year start trial: 23\n",
      "  3‑month trials (20 total):\n",
      "    [23, 26, 29, 32, 35, 38, 41, 44, 47, 50, 53, 56, 59, 62, 65, 68, 71, 74, 77, 80]\n",
      "\n"
     ]
    }
   ],
   "source": [
    "import random\n",
    "\n",
    "# Parameters\n",
    "max_trial   = 300\n",
    "step        = 3\n",
    "n_periods   = 20\n",
    "max_start   = max_trial - step * (n_periods - 1)  # = 300 - 3*19 = 243\n",
    "\n",
    "# Do 5 independent selections\n",
    "for i in range(1, 6):\n",
    "    # 1) Pick random starting trial\n",
    "    start_trial = random.randint(1, max_start)\n",
    "    # 2) Build the 20 corresponding 3‑month trial numbers\n",
    "    three_month_trials = [start_trial + k * step for k in range(n_periods)]\n",
    "    \n",
    "    # 3) Print results\n",
    "    print(f\"Selection #{i}:\")\n",
    "    print(f\"  5‑year start trial: {start_trial}\")\n",
    "    print(f\"  3‑month trials ({n_periods} total):\")\n",
    "    print(f\"    {three_month_trials}\\n\")\n"
   ]
  }
 ],
 "metadata": {
  "kernelspec": {
   "display_name": "venv",
   "language": "python",
   "name": "python3"
  },
  "language_info": {
   "codemirror_mode": {
    "name": "ipython",
    "version": 3
   },
   "file_extension": ".py",
   "mimetype": "text/x-python",
   "name": "python",
   "nbconvert_exporter": "python",
   "pygments_lexer": "ipython3",
   "version": "3.13.0"
  }
 },
 "nbformat": 4,
 "nbformat_minor": 5
}
